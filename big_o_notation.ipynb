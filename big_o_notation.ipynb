{
 "cells": [
  {
   "cell_type": "code",
   "execution_count": null,
   "id": "e5f63c68",
   "metadata": {},
   "outputs": [],
   "source": [
    "# Make a new Jupyter notebook named big_o_notation.ipynb\n",
    "\n",
    "# Title your chart \"Big O Notation\"\n",
    "# Label your x axis \"Elements\"\n",
    "# Label your y axis \"Operations\"\n",
    "# Label your curves or make a legend for the curves\n",
    "# Use LaTex notation where possible"
   ]
  }
 ],
 "metadata": {
  "kernelspec": {
   "display_name": "Python 3 (ipykernel)",
   "language": "python",
   "name": "python3"
  },
  "language_info": {
   "codemirror_mode": {
    "name": "ipython",
    "version": 3
   },
   "file_extension": ".py",
   "mimetype": "text/x-python",
   "name": "python",
   "nbconvert_exporter": "python",
   "pygments_lexer": "ipython3",
   "version": "3.9.7"
  }
 },
 "nbformat": 4,
 "nbformat_minor": 5
}
